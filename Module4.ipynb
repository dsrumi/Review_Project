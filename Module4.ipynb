{
 "cells": [
  {
   "cell_type": "code",
   "execution_count": 6,
   "id": "e7cc2b4e-53fc-4a55-9c41-e9c4d95e6d0b",
   "metadata": {},
   "outputs": [
    {
     "name": "stdout",
     "output_type": "stream",
     "text": [
      "   sepal length  sepal width  petal length  petal width      species\n",
      "0           5.1          3.5           1.4          0.2  Iris-setosa\n",
      "1           4.9          3.0           1.4          0.2  Iris-setosa\n",
      "2           4.7          3.2           1.3          0.2  Iris-setosa\n",
      "3           4.6          3.1           1.5          0.2  Iris-setosa\n",
      "4           5.0          3.6           1.4          0.2  Iris-setosa\n",
      "5           5.4          3.9           1.7          0.4  Iris-setosa\n",
      "6           4.6          3.4           1.4          0.3  Iris-setosa\n",
      "7           5.0          3.4           1.5          0.2  Iris-setosa\n",
      "8           4.4          2.9           1.4          0.2  Iris-setosa\n",
      "9           4.9          3.1           1.5          0.1  Iris-setosa\n"
     ]
    }
   ],
   "source": [
    "import sqlite3\n",
    "import pandas as pd\n",
    "\n",
    "# Load the dataset into a Pandas DataFrame\n",
    "column_names = [\"sepal length\", \"sepal width\", \"petal length\",\"petal width\",\"species\"]  \n",
    "df = pd.read_csv(\"iris.data\", names=column_names, header=None)\n",
    "\n",
    "\n",
    "# Connect to an in-memory SQLite database\n",
    "conn = sqlite3.connect(\":memory:\")\n",
    "df.to_sql(\"iris\", conn, index=False, if_exists=\"replace\")\n",
    "\n",
    "# Run SQL queries\n",
    "query = \"SELECT * FROM iris LIMIT 10;\"\n",
    "result = pd.read_sql_query(query, conn)\n",
    "print(result)\n"
   ]
  },
  {
   "cell_type": "code",
   "execution_count": 9,
   "id": "0b0eb413-058f-49cd-a58a-34d206f5746a",
   "metadata": {},
   "outputs": [
    {
     "name": "stdout",
     "output_type": "stream",
     "text": [
      "           species  avg_petal_width\n",
      "0      Iris-setosa            0.244\n",
      "1  Iris-versicolor            1.326\n",
      "2   Iris-virginica            2.026\n"
     ]
    }
   ],
   "source": [
    "# Find the average 'petal width' by species\n",
    "query = \"\"\"\n",
    "SELECT species, AVG(\"petal width\") AS avg_petal_width \n",
    "FROM iris \n",
    "GROUP BY species;\n",
    "\"\"\"\n",
    "result = pd.read_sql_query(query, conn)\n",
    "print(result)\n"
   ]
  },
  {
   "cell_type": "code",
   "execution_count": 10,
   "id": "edc9ba88-eb81-4f41-a2d5-896b93c416a0",
   "metadata": {},
   "outputs": [
    {
     "name": "stdout",
     "output_type": "stream",
     "text": [
      "   correlation_sepal_petal_length\n",
      "0                        0.871754\n"
     ]
    }
   ],
   "source": [
    "# Find the correlation between 'sepal length' and 'petal length'\n",
    "query = \"\"\"\n",
    "SELECT ( \n",
    "    (COUNT(*) * SUM(\"sepal length\" * \"petal length\")) - (SUM(\"sepal length\") * SUM(\"petal length\"))\n",
    ") / \n",
    "( \n",
    "    SQRT((COUNT(*) * SUM(\"sepal length\" * \"sepal length\")) - (SUM(\"sepal length\") * SUM(\"sepal length\"))) * \n",
    "    SQRT((COUNT(*) * SUM(\"petal length\" * \"petal length\")) - (SUM(\"petal length\") * SUM(\"petal length\")))\n",
    ") AS correlation_sepal_petal_length\n",
    "FROM iris;\n",
    "\"\"\"\n",
    "result = pd.read_sql_query(query, conn)\n",
    "print(result)\n",
    "\n",
    "# Close the connection\n",
    "conn.close()\n"
   ]
  }
 ],
 "metadata": {
  "kernelspec": {
   "display_name": "Python 3 (ipykernel)",
   "language": "python",
   "name": "python3"
  },
  "language_info": {
   "codemirror_mode": {
    "name": "ipython",
    "version": 3
   },
   "file_extension": ".py",
   "mimetype": "text/x-python",
   "name": "python",
   "nbconvert_exporter": "python",
   "pygments_lexer": "ipython3",
   "version": "3.12.4"
  }
 },
 "nbformat": 4,
 "nbformat_minor": 5
}
